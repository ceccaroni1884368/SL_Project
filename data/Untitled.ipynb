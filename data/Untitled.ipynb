{
 "cells": [
  {
   "cell_type": "code",
   "execution_count": 162,
   "metadata": {},
   "outputs": [],
   "source": [
    "import pandas as pd\n",
    "import numpy as np\n",
    "from os import listdir\n",
    "from os.path import isfile, join"
   ]
  },
  {
   "cell_type": "code",
   "execution_count": 163,
   "metadata": {},
   "outputs": [],
   "source": [
    "df = pd.DataFrame()\n",
    "onlyfiles = [f for f in listdir('./') if isfile(join('./', f)) and '.csv' in f and f != 'dataframe.csv']\n",
    "\n",
    "for file in onlyfiles:\n",
    "    df = pd.concat([df,pd.read_csv('./' + file)],axis=0,ignore_index=True)"
   ]
  },
  {
   "cell_type": "code",
   "execution_count": 171,
   "metadata": {},
   "outputs": [
    {
     "name": "stdout",
     "output_type": "stream",
     "text": [
      "shape_pre: (297, 15)\n"
     ]
    }
   ],
   "source": [
    "print('shape_pre:',df.shape)"
   ]
  },
  {
   "cell_type": "code",
   "execution_count": 165,
   "metadata": {},
   "outputs": [],
   "source": [
    "# drop duplicates\n",
    "idx = df[['local date','lat','lon']].drop_duplicates().index.tolist()\n",
    "df = df.iloc[idx].reset_index(drop=True)\n",
    "\n",
    "# drop NA location\n",
    "df = df.dropna(subset=['location'])\n",
    "\n",
    "# drop local time\n",
    "df = df.drop(['local time'], axis=1)\n",
    "\n",
    "# drop location\n",
    "df = df.drop(['location'], axis=1)\n",
    "\n",
    "# drop dew\n",
    "df = df.drop(['dew'], axis=1)"
   ]
  },
  {
   "cell_type": "code",
   "execution_count": 166,
   "metadata": {},
   "outputs": [],
   "source": [
    "# location for date\n",
    "location_for_date={}\n",
    "for i in range(len(df)):\n",
    "    if df.iloc[i]['local date'] in location_for_date:\n",
    "        location_for_date[df.iloc[i]['local date']].append((df.iloc[i]['lat'],df.iloc[i]['lon']))\n",
    "    else:\n",
    "        location_for_date[df.iloc[i]['local date']] = [(df.iloc[i]['lat'],df.iloc[i]['lon'])]\n",
    "        \n",
    "dates = df['local date'].drop_duplicates().tolist()\n",
    "\n",
    "min_number_location = set(location_for_date['2020-03-30'])\n",
    "max_number_location = set(location_for_date['2020-03-30'])\n",
    "for date in dates:\n",
    "    min_number_location = min_number_location.intersection(set(location_for_date[date]))\n",
    "    max_number_location = max_number_location.union(set(location_for_date[date]))\n",
    "    \n",
    "# inserisco posti mancanti per data\n",
    "for date in location_for_date:\n",
    "    for lat_lon in max_number_location:\n",
    "        if lat_lon not in location_for_date[date]:\n",
    "            df = df.append(pd.DataFrame([{'local date': date, 'lat': lat_lon[0], 'lon': lat_lon[1]}]))\n",
    "            \n",
    "df = df.sort_values(by='local date').reset_index(drop=True)"
   ]
  },
  {
   "cell_type": "code",
   "execution_count": 172,
   "metadata": {},
   "outputs": [
    {
     "name": "stdout",
     "output_type": "stream",
     "text": [
      "shape_post (297, 15)\n"
     ]
    }
   ],
   "source": [
    "print('shape_post',df.shape)"
   ]
  },
  {
   "cell_type": "code",
   "execution_count": 170,
   "metadata": {},
   "outputs": [
    {
     "name": "stdout",
     "output_type": "stream",
     "text": [
      "   local date        lat        lon aqi   co     h   no2    o3       p  pm10  \\\n",
      "0  2020-03-30  41.907183  12.446688  65  0.1  65.4   7.8  19.9  1009.4  56.0   \n",
      "1  2020-03-30  41.893267  12.475385  58  NaN  65.4   7.8  20.4  1009.4  58.0   \n",
      "2  2020-03-30  41.993969  12.724505  61  NaN  62.0   6.0  19.5  1009.9  46.0   \n",
      "3  2020-03-30  41.964406  12.668440  65  NaN  61.2   6.4  19.5  1010.9  45.0   \n",
      "4  2020-03-30  41.932832  12.501247  70  0.1  65.4  10.6  18.7  1009.4  55.0   \n",
      "\n",
      "   pm25  so2     t    w   wg  \n",
      "0  65.0  0.5  17.2  1.2  4.8  \n",
      "1  25.0  NaN  17.2  1.2  4.8  \n",
      "2  61.0  1.0  15.5  NaN  NaN  \n",
      "3  65.0  1.0  16.8  1.5  4.2  \n",
      "4  70.0  0.5  17.2  1.2  4.8  \n"
     ]
    }
   ],
   "source": [
    "print(df.head())"
   ]
  },
  {
   "cell_type": "code",
   "execution_count": 176,
   "metadata": {},
   "outputs": [
    {
     "name": "stdout",
     "output_type": "stream",
     "text": [
      "NA values:\n",
      "\n",
      "local date      0\n",
      "lat             0\n",
      "lon             0\n",
      "aqi            12\n",
      "co            140\n",
      "h              12\n",
      "no2            12\n",
      "o3             12\n",
      "p              12\n",
      "pm10           12\n",
      "pm25           12\n",
      "so2            44\n",
      "t              12\n",
      "w              48\n",
      "wg             48\n",
      "dtype: int64\n"
     ]
    }
   ],
   "source": [
    "print('NA values:\\n')\n",
    "print(df.isnull().sum(axis = 0))"
   ]
  },
  {
   "cell_type": "code",
   "execution_count": 179,
   "metadata": {},
   "outputs": [],
   "source": [
    "df.to_csv('dataframe.csv', index=False)"
   ]
  },
  {
   "cell_type": "code",
   "execution_count": null,
   "metadata": {},
   "outputs": [],
   "source": []
  },
  {
   "cell_type": "code",
   "execution_count": null,
   "metadata": {},
   "outputs": [],
   "source": []
  }
 ],
 "metadata": {
  "kernelspec": {
   "display_name": "Python 3",
   "language": "python",
   "name": "python3"
  },
  "language_info": {
   "codemirror_mode": {
    "name": "ipython",
    "version": 3
   },
   "file_extension": ".py",
   "mimetype": "text/x-python",
   "name": "python",
   "nbconvert_exporter": "python",
   "pygments_lexer": "ipython3",
   "version": "3.7.6"
  }
 },
 "nbformat": 4,
 "nbformat_minor": 4
}
