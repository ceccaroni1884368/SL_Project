{
 "cells": [
  {
   "cell_type": "markdown",
   "metadata": {},
   "source": [
    "The dataset used in this notebook can be found in the folder of the project."
   ]
  },
  {
   "cell_type": "code",
   "execution_count": 1,
   "metadata": {
    "collapsed": true
   },
   "outputs": [],
   "source": [
    "import matplotlib.pyplot as plt\n",
    "import numpy as np\n",
    "import pandas as pd\n",
    "%matplotlib inline"
   ]
  },
  {
   "cell_type": "code",
   "execution_count": 2,
   "metadata": {
    "collapsed": true
   },
   "outputs": [],
   "source": [
    "salary_data = pd.read_csv(\"Salary_Data.csv\")"
   ]
  },
  {
   "cell_type": "code",
   "execution_count": 3,
   "metadata": {
    "collapsed": false
   },
   "outputs": [
    {
     "data": {
      "text/html": [
       "<div>\n",
       "<table border=\"1\" class=\"dataframe\">\n",
       "  <thead>\n",
       "    <tr style=\"text-align: right;\">\n",
       "      <th></th>\n",
       "      <th>YearsExperience</th>\n",
       "      <th>Salary</th>\n",
       "    </tr>\n",
       "  </thead>\n",
       "  <tbody>\n",
       "    <tr>\n",
       "      <th>0</th>\n",
       "      <td>1.1</td>\n",
       "      <td>39343.0</td>\n",
       "    </tr>\n",
       "    <tr>\n",
       "      <th>1</th>\n",
       "      <td>1.3</td>\n",
       "      <td>46205.0</td>\n",
       "    </tr>\n",
       "    <tr>\n",
       "      <th>2</th>\n",
       "      <td>1.5</td>\n",
       "      <td>37731.0</td>\n",
       "    </tr>\n",
       "    <tr>\n",
       "      <th>3</th>\n",
       "      <td>2.0</td>\n",
       "      <td>43525.0</td>\n",
       "    </tr>\n",
       "    <tr>\n",
       "      <th>4</th>\n",
       "      <td>2.2</td>\n",
       "      <td>39891.0</td>\n",
       "    </tr>\n",
       "    <tr>\n",
       "      <th>5</th>\n",
       "      <td>2.9</td>\n",
       "      <td>56642.0</td>\n",
       "    </tr>\n",
       "    <tr>\n",
       "      <th>6</th>\n",
       "      <td>3.0</td>\n",
       "      <td>60150.0</td>\n",
       "    </tr>\n",
       "    <tr>\n",
       "      <th>7</th>\n",
       "      <td>3.2</td>\n",
       "      <td>54445.0</td>\n",
       "    </tr>\n",
       "    <tr>\n",
       "      <th>8</th>\n",
       "      <td>3.2</td>\n",
       "      <td>64445.0</td>\n",
       "    </tr>\n",
       "    <tr>\n",
       "      <th>9</th>\n",
       "      <td>3.7</td>\n",
       "      <td>57189.0</td>\n",
       "    </tr>\n",
       "    <tr>\n",
       "      <th>10</th>\n",
       "      <td>3.9</td>\n",
       "      <td>63218.0</td>\n",
       "    </tr>\n",
       "    <tr>\n",
       "      <th>11</th>\n",
       "      <td>4.0</td>\n",
       "      <td>55794.0</td>\n",
       "    </tr>\n",
       "    <tr>\n",
       "      <th>12</th>\n",
       "      <td>4.0</td>\n",
       "      <td>56957.0</td>\n",
       "    </tr>\n",
       "    <tr>\n",
       "      <th>13</th>\n",
       "      <td>4.1</td>\n",
       "      <td>57081.0</td>\n",
       "    </tr>\n",
       "    <tr>\n",
       "      <th>14</th>\n",
       "      <td>4.5</td>\n",
       "      <td>61111.0</td>\n",
       "    </tr>\n",
       "    <tr>\n",
       "      <th>15</th>\n",
       "      <td>4.9</td>\n",
       "      <td>67938.0</td>\n",
       "    </tr>\n",
       "    <tr>\n",
       "      <th>16</th>\n",
       "      <td>5.1</td>\n",
       "      <td>66029.0</td>\n",
       "    </tr>\n",
       "    <tr>\n",
       "      <th>17</th>\n",
       "      <td>5.3</td>\n",
       "      <td>83088.0</td>\n",
       "    </tr>\n",
       "    <tr>\n",
       "      <th>18</th>\n",
       "      <td>5.9</td>\n",
       "      <td>81363.0</td>\n",
       "    </tr>\n",
       "    <tr>\n",
       "      <th>19</th>\n",
       "      <td>6.0</td>\n",
       "      <td>93940.0</td>\n",
       "    </tr>\n",
       "    <tr>\n",
       "      <th>20</th>\n",
       "      <td>6.8</td>\n",
       "      <td>91738.0</td>\n",
       "    </tr>\n",
       "    <tr>\n",
       "      <th>21</th>\n",
       "      <td>7.1</td>\n",
       "      <td>98273.0</td>\n",
       "    </tr>\n",
       "    <tr>\n",
       "      <th>22</th>\n",
       "      <td>7.9</td>\n",
       "      <td>101302.0</td>\n",
       "    </tr>\n",
       "    <tr>\n",
       "      <th>23</th>\n",
       "      <td>8.2</td>\n",
       "      <td>113812.0</td>\n",
       "    </tr>\n",
       "    <tr>\n",
       "      <th>24</th>\n",
       "      <td>8.7</td>\n",
       "      <td>109431.0</td>\n",
       "    </tr>\n",
       "    <tr>\n",
       "      <th>25</th>\n",
       "      <td>9.0</td>\n",
       "      <td>105582.0</td>\n",
       "    </tr>\n",
       "    <tr>\n",
       "      <th>26</th>\n",
       "      <td>9.5</td>\n",
       "      <td>116969.0</td>\n",
       "    </tr>\n",
       "    <tr>\n",
       "      <th>27</th>\n",
       "      <td>9.6</td>\n",
       "      <td>112635.0</td>\n",
       "    </tr>\n",
       "    <tr>\n",
       "      <th>28</th>\n",
       "      <td>10.3</td>\n",
       "      <td>122391.0</td>\n",
       "    </tr>\n",
       "    <tr>\n",
       "      <th>29</th>\n",
       "      <td>10.5</td>\n",
       "      <td>121872.0</td>\n",
       "    </tr>\n",
       "  </tbody>\n",
       "</table>\n",
       "</div>"
      ],
      "text/plain": [
       "    YearsExperience    Salary\n",
       "0               1.1   39343.0\n",
       "1               1.3   46205.0\n",
       "2               1.5   37731.0\n",
       "3               2.0   43525.0\n",
       "4               2.2   39891.0\n",
       "5               2.9   56642.0\n",
       "6               3.0   60150.0\n",
       "7               3.2   54445.0\n",
       "8               3.2   64445.0\n",
       "9               3.7   57189.0\n",
       "10              3.9   63218.0\n",
       "11              4.0   55794.0\n",
       "12              4.0   56957.0\n",
       "13              4.1   57081.0\n",
       "14              4.5   61111.0\n",
       "15              4.9   67938.0\n",
       "16              5.1   66029.0\n",
       "17              5.3   83088.0\n",
       "18              5.9   81363.0\n",
       "19              6.0   93940.0\n",
       "20              6.8   91738.0\n",
       "21              7.1   98273.0\n",
       "22              7.9  101302.0\n",
       "23              8.2  113812.0\n",
       "24              8.7  109431.0\n",
       "25              9.0  105582.0\n",
       "26              9.5  116969.0\n",
       "27              9.6  112635.0\n",
       "28             10.3  122391.0\n",
       "29             10.5  121872.0"
      ]
     },
     "execution_count": 3,
     "metadata": {},
     "output_type": "execute_result"
    }
   ],
   "source": [
    "salary_data"
   ]
  },
  {
   "cell_type": "markdown",
   "metadata": {},
   "source": [
    "As you can see we have 30 employees in the dataset with different number of years of experience. We are trying to make regressor so we can easily predict/decide on salary for totally new employee."
   ]
  },
  {
   "cell_type": "markdown",
   "metadata": {},
   "source": [
    "## Preprocessing\n",
    "\n",
    "    1. We will need to separate data into Features and labels\n",
    "    2. Create training and testing parts of the dataset\n",
    "    \n",
    "    In this situation we wont need to scale data because we have just one feature."
   ]
  },
  {
   "cell_type": "code",
   "execution_count": 4,
   "metadata": {
    "collapsed": true
   },
   "outputs": [],
   "source": [
    "X = salary_data.iloc[:, :-1].values\n",
    "y = salary_data.iloc[:, -1].values"
   ]
  },
  {
   "cell_type": "markdown",
   "metadata": {},
   "source": [
    "### 2. Train and test set"
   ]
  },
  {
   "cell_type": "code",
   "execution_count": 6,
   "metadata": {
    "collapsed": false
   },
   "outputs": [],
   "source": [
    "from sklearn.cross_validation import train_test_split"
   ]
  },
  {
   "cell_type": "code",
   "execution_count": 7,
   "metadata": {
    "collapsed": true
   },
   "outputs": [],
   "source": [
    "X_train, X_test, y_train, y_test = train_test_split(X, y, test_size = 0.2)"
   ]
  },
  {
   "cell_type": "markdown",
   "metadata": {},
   "source": [
    "## Regression part"
   ]
  },
  {
   "cell_type": "code",
   "execution_count": 9,
   "metadata": {
    "collapsed": false
   },
   "outputs": [],
   "source": [
    "from sklearn.linear_model import LinearRegression, Ridge"
   ]
  },
  {
   "cell_type": "code",
   "execution_count": 10,
   "metadata": {
    "collapsed": false
   },
   "outputs": [
    {
     "data": {
      "text/plain": [
       "LinearRegression(copy_X=True, fit_intercept=True, n_jobs=1, normalize=False)"
      ]
     },
     "execution_count": 10,
     "metadata": {},
     "output_type": "execute_result"
    }
   ],
   "source": [
    "lRegressor = LinearRegression()\n",
    "lRegressor.fit(X_train, y_train)"
   ]
  },
  {
   "cell_type": "code",
   "execution_count": 11,
   "metadata": {
    "collapsed": false
   },
   "outputs": [
    {
     "data": {
      "text/plain": [
       "Ridge(alpha=1.0, copy_X=True, fit_intercept=True, max_iter=None,\n",
       "   normalize=False, random_state=None, solver='auto', tol=0.001)"
      ]
     },
     "execution_count": 11,
     "metadata": {},
     "output_type": "execute_result"
    }
   ],
   "source": [
    "rig = Ridge(alpha=1.0)\n",
    "rig.fit(X_train, y_train)"
   ]
  },
  {
   "cell_type": "code",
   "execution_count": 13,
   "metadata": {
    "collapsed": true
   },
   "outputs": [],
   "source": [
    "pred_1 = lRegressor.predict(X_test)\n",
    "pred_2 = rig.predict(X_test)"
   ]
  },
  {
   "cell_type": "code",
   "execution_count": 14,
   "metadata": {
    "collapsed": false
   },
   "outputs": [
    {
     "name": "stdout",
     "output_type": "stream",
     "text": [
      "R^2 score for Linear Regression:  0.925437927773\n"
     ]
    }
   ],
   "source": [
    "print(\"R^2 score for Linear Regression: \", lRegressor.score(X_test, y_test))"
   ]
  },
  {
   "cell_type": "code",
   "execution_count": 15,
   "metadata": {
    "collapsed": false
   },
   "outputs": [
    {
     "name": "stdout",
     "output_type": "stream",
     "text": [
      "R^2 score for Ridge regression:  0.925002520196\n"
     ]
    }
   ],
   "source": [
    "print(\"R^2 score for Ridge regression: \", rig.score(X_test, y_test))"
   ]
  },
  {
   "cell_type": "code",
   "execution_count": 30,
   "metadata": {
    "collapsed": false
   },
   "outputs": [
    {
     "data": {
      "image/png": "[encoded data removed]",
      "text/plain": [
       "<matplotlib.figure.Figure at 0x1abf2eb7b70>"
      ]
     },
     "metadata": {},
     "output_type": "display_data"
    },
    {
     "data": {
      "image/png": "[encoded data removed]",
      "text/plain": [
       "<matplotlib.figure.Figure at 0x1abed492240>"
      ]
     },
     "metadata": {},
     "output_type": "display_data"
    }
   ],
   "source": [
    "plt.scatter(X_test, y_test, c='g')\n",
    "plt.scatter(X_train, y_train)\n",
    "plt.plot(X_test, pred_1, c='r')\n",
    "plt.title(\"Linear Regression - Regressor\")\n",
    "plt.xlabel(\"Years-experience\")\n",
    "plt.ylabel(\"Salary  in $\")\n",
    "plt.show()\n",
    "\n",
    "plt.scatter(X_test, y_test, c='g')\n",
    "plt.scatter(X_train, y_train)\n",
    "plt.plot(X_test, pred_2, c='r')\n",
    "plt.title(\"Ridge - Regressor\")\n",
    "plt.xlabel(\"Years-experience\")\n",
    "plt.ylabel(\"Salary  in $\")\n",
    "plt.show()"
   ]
  },
  {
   "cell_type": "markdown",
   "metadata": {},
   "source": [
    "#### Let's try to improve Ridge regression with Grid Search CV"
   ]
  },
  {
   "cell_type": "code",
   "execution_count": 31,
   "metadata": {
    "collapsed": true
   },
   "outputs": [],
   "source": [
    "from sklearn.grid_search import GridSearchCV"
   ]
  },
  {
   "cell_type": "code",
   "execution_count": 32,
   "metadata": {
    "collapsed": true
   },
   "outputs": [],
   "source": [
    "params = {'solver':['auto', 'svd', 'cholesky', 'lsqr', 'sparse_cg', 'sag'], 'max_iter':[1000, 10000]}"
   ]
  },
  {
   "cell_type": "code",
   "execution_count": 33,
   "metadata": {
    "collapsed": false
   },
   "outputs": [
    {
     "name": "stdout",
     "output_type": "stream",
     "text": [
      "Fitting 5 folds for each of 12 candidates, totalling 60 fits\n",
      "[CV] solver=auto, max_iter=1000 ......................................\n",
      "[CV] ............. solver=auto, max_iter=1000, score=0.957247 -   0.0s\n",
      "[CV] solver=auto, max_iter=1000 ......................................\n",
      "[CV] ............. solver=auto, max_iter=1000, score=0.937050 -   0.0s\n",
      "[CV] solver=auto, max_iter=1000 ......................................\n",
      "[CV] ............. solver=auto, max_iter=1000, score=0.881413 -   0.0s\n",
      "[CV] solver=auto, max_iter=1000 ......................................\n",
      "[CV] ............. solver=auto, max_iter=1000, score=0.813687 -   0.0s\n",
      "[CV] solver=auto, max_iter=1000 ......................................\n",
      "[CV] ............. solver=auto, max_iter=1000, score=0.474748 -   0.0s\n",
      "[CV] solver=svd, max_iter=1000 .......................................\n",
      "[CV] .............. solver=svd, max_iter=1000, score=0.957247 -   0.0s\n",
      "[CV] solver=svd, max_iter=1000 .......................................\n",
      "[CV] .............. solver=svd, max_iter=1000, score=0.937050 -   0.0s\n",
      "[CV] solver=svd, max_iter=1000 .......................................\n",
      "[CV] .............. solver=svd, max_iter=1000, score=0.881413 -   0.0s\n",
      "[CV] solver=svd, max_iter=1000 .......................................\n",
      "[CV] .............. solver=svd, max_iter=1000, score=0.813687 -   0.0s\n",
      "[CV] solver=svd, max_iter=1000 .......................................\n",
      "[CV] .............. solver=svd, max_iter=1000, score=0.474748 -   0.0s\n",
      "[CV] solver=cholesky, max_iter=1000 ..................................\n",
      "[CV] ......... solver=cholesky, max_iter=1000, score=0.957247 -   0.0s\n",
      "[CV] solver=cholesky, max_iter=1000 ..................................\n",
      "[CV] ......... solver=cholesky, max_iter=1000, score=0.937050 -   0.0s\n",
      "[CV] solver=cholesky, max_iter=1000 ..................................\n",
      "[CV] ......... solver=cholesky, max_iter=1000, score=0.881413 -   0.0s\n",
      "[CV] solver=cholesky, max_iter=1000 ..................................\n",
      "[CV] ......... solver=cholesky, max_iter=1000, score=0.813687 -   0.0s\n",
      "[CV] solver=cholesky, max_iter=1000 ..................................\n",
      "[CV] ......... solver=cholesky, max_iter=1000, score=0.474748 -   0.0s\n",
      "[CV] solver=lsqr, max_iter=1000 ......................................\n",
      "[CV] ............. solver=lsqr, max_iter=1000, score=0.957247 -   0.0s\n",
      "[CV] solver=lsqr, max_iter=1000 ......................................\n",
      "[CV] ............. solver=lsqr, max_iter=1000, score=0.937050 -   0.0s\n",
      "[CV] solver=lsqr, max_iter=1000 ......................................\n",
      "[CV] ............. solver=lsqr, max_iter=1000, score=0.881413 -   0.0s\n",
      "[CV] solver=lsqr, max_iter=1000 ......................................\n",
      "[CV] ............. solver=lsqr, max_iter=1000, score=0.813687 -   0.0s\n",
      "[CV] solver=lsqr, max_iter=1000 ......................................\n",
      "[CV] ............. solver=lsqr, max_iter=1000, score=0.474748 -   0.0s\n",
      "[CV] solver=sparse_cg, max_iter=1000 .................................\n",
      "[CV] ........ solver=sparse_cg, max_iter=1000, score=0.957247 -   0.0s\n",
      "[CV] solver=sparse_cg, max_iter=1000 .................................\n",
      "[CV] ........ solver=sparse_cg, max_iter=1000, score=0.937050 -   0.0s\n",
      "[CV] solver=sparse_cg, max_iter=1000 .................................\n",
      "[CV] ........ solver=sparse_cg, max_iter=1000, score=0.881413 -   0.0s\n",
      "[CV] solver=sparse_cg, max_iter=1000 .................................\n",
      "[CV] ........ solver=sparse_cg, max_iter=1000, score=0.813687 -   0.0s\n",
      "[CV] solver=sparse_cg, max_iter=1000 .................................\n",
      "[CV] ........ solver=sparse_cg, max_iter=1000, score=0.474748 -   0.0s\n",
      "[CV] solver=sag, max_iter=1000 .......................................\n",
      "[CV] .............. solver=sag, max_iter=1000, score=0.957257 -   0.0s\n",
      "[CV] solver=sag, max_iter=1000 .......................................\n",
      "[CV] .............. solver=sag, max_iter=1000, score=0.936993 -   0.0s\n",
      "[CV] solver=sag, max_iter=1000 .......................................\n",
      "[CV] .............. solver=sag, max_iter=1000, score=0.881199 -   0.0s\n",
      "[CV] solver=sag, max_iter=1000 .......................................\n",
      "[CV] .............. solver=sag, max_iter=1000, score=0.813680 -   0.0s\n",
      "[CV] solver=sag, max_iter=1000 .......................................\n",
      "[CV] .............. solver=sag, max_iter=1000, score=0.470442 -   0.0s\n",
      "[CV] solver=auto, max_iter=10000 .....................................\n",
      "[CV] ............ solver=auto, max_iter=10000, score=0.957247 -   0.0s\n",
      "[CV] solver=auto, max_iter=10000 .....................................\n",
      "[CV] ............ solver=auto, max_iter=10000, score=0.937050 -   0.0s\n",
      "[CV] solver=auto, max_iter=10000 .....................................\n",
      "[CV] ............ solver=auto, max_iter=10000, score=0.881413 -   0.0s\n",
      "[CV] solver=auto, max_iter=10000 .....................................\n",
      "[CV] ............ solver=auto, max_iter=10000, score=0.813687 -   0.0s\n",
      "[CV] solver=auto, max_iter=10000 .....................................\n",
      "[CV] ............ solver=auto, max_iter=10000, score=0.474748 -   0.0s\n",
      "[CV] solver=svd, max_iter=10000 ......................................\n",
      "[CV] ............. solver=svd, max_iter=10000, score=0.957247 -   0.0s\n",
      "[CV] solver=svd, max_iter=10000 ......................................\n",
      "[CV] ............. solver=svd, max_iter=10000, score=0.937050 -   0.0s\n",
      "[CV] solver=svd, max_iter=10000 ......................................\n",
      "[CV] ............. solver=svd, max_iter=10000, score=0.881413 -   0.0s\n",
      "[CV] solver=svd, max_iter=10000 ......................................\n",
      "[CV] ............. solver=svd, max_iter=10000, score=0.813687 -   0.0s\n",
      "[CV] solver=svd, max_iter=10000 ......................................\n",
      "[CV] ............. solver=svd, max_iter=10000, score=0.474748 -   0.0s\n",
      "[CV] solver=cholesky, max_iter=10000 .................................\n",
      "[CV] ........ solver=cholesky, max_iter=10000, score=0.957247 -   0.0s\n",
      "[CV] solver=cholesky, max_iter=10000 .................................\n",
      "[CV] ........ solver=cholesky, max_iter=10000, score=0.937050 -   0.0s\n",
      "[CV] solver=cholesky, max_iter=10000 .................................\n",
      "[CV] ........ solver=cholesky, max_iter=10000, score=0.881413 -   0.0s\n",
      "[CV] solver=cholesky, max_iter=10000 .................................\n",
      "[CV] ........ solver=cholesky, max_iter=10000, score=0.813687 -   0.0s\n",
      "[CV] solver=cholesky, max_iter=10000 .................................\n",
      "[CV] ........ solver=cholesky, max_iter=10000, score=0.474748 -   0.0s\n",
      "[CV] solver=lsqr, max_iter=10000 .....................................\n",
      "[CV] ............ solver=lsqr, max_iter=10000, score=0.957247 -   0.0s\n",
      "[CV] solver=lsqr, max_iter=10000 .....................................\n",
      "[CV] ............ solver=lsqr, max_iter=10000, score=0.937050 -   0.0s\n",
      "[CV] solver=lsqr, max_iter=10000 .....................................\n",
      "[CV] ............ solver=lsqr, max_iter=10000, score=0.881413 -   0.0s\n",
      "[CV] solver=lsqr, max_iter=10000 .....................................\n",
      "[CV] ............ solver=lsqr, max_iter=10000, score=0.813687 -   0.0s\n",
      "[CV] solver=lsqr, max_iter=10000 .....................................\n",
      "[CV] ............ solver=lsqr, max_iter=10000, score=0.474748 -   0.0s\n",
      "[CV] solver=sparse_cg, max_iter=10000 ................................\n",
      "[CV] ....... solver=sparse_cg, max_iter=10000, score=0.957247 -   0.0s\n",
      "[CV] solver=sparse_cg, max_iter=10000 ................................\n",
      "[CV] ....... solver=sparse_cg, max_iter=10000, score=0.937050 -   0.0s\n",
      "[CV] solver=sparse_cg, max_iter=10000 ................................\n",
      "[CV] ....... solver=sparse_cg, max_iter=10000, score=0.881413 -   0.0s\n",
      "[CV] solver=sparse_cg, max_iter=10000 ................................\n",
      "[CV] ....... solver=sparse_cg, max_iter=10000, score=0.813687 -   0.0s\n",
      "[CV] solver=sparse_cg, max_iter=10000 ................................\n",
      "[CV] ....... solver=sparse_cg, max_iter=10000, score=0.474748 -   0.0s\n",
      "[CV] solver=sag, max_iter=10000 ......................................\n",
      "[CV] ............. solver=sag, max_iter=10000, score=0.957279 -   0.0s\n",
      "[CV] solver=sag, max_iter=10000 ......................................\n",
      "[CV] ............. solver=sag, max_iter=10000, score=0.936810 -   0.0s\n",
      "[CV] solver=sag, max_iter=10000 ......................................\n",
      "[CV] ............. solver=sag, max_iter=10000, score=0.880743 -   0.0s\n",
      "[CV] solver=sag, max_iter=10000 ......................................\n",
      "[CV] ............. solver=sag, max_iter=10000, score=0.810971 -   0.0s\n",
      "[CV] solver=sag, max_iter=10000 ......................................\n",
      "[CV] ............. solver=sag, max_iter=10000, score=0.473753 -   0.0s\n"
     ]
    },
    {
     "name": "stderr",
     "output_type": "stream",
     "text": [
      "[Parallel(n_jobs=1)]: Done   1 tasks       | elapsed:    0.0s\n",
      "[Parallel(n_jobs=1)]: Done   4 tasks       | elapsed:    0.0s\n",
      "[Parallel(n_jobs=1)]: Done   7 tasks       | elapsed:    0.0s\n",
      "[Parallel(n_jobs=1)]: Done  12 tasks       | elapsed:    0.0s\n",
      "[Parallel(n_jobs=1)]: Done  17 tasks       | elapsed:    0.0s\n",
      "[Parallel(n_jobs=1)]: Done  24 tasks       | elapsed:    0.0s\n",
      "[Parallel(n_jobs=1)]: Done  31 tasks       | elapsed:    0.0s\n",
      "[Parallel(n_jobs=1)]: Done  40 tasks       | elapsed:    0.0s\n",
      "[Parallel(n_jobs=1)]: Done  49 tasks       | elapsed:    0.0s\n",
      "[Parallel(n_jobs=1)]: Done  60 tasks       | elapsed:    0.0s\n",
      "[Parallel(n_jobs=1)]: Done  60 out of  60 | elapsed:    0.0s finished\n"
     ]
    },
    {
     "data": {
      "text/plain": [
       "GridSearchCV(cv=5, error_score='raise',\n",
       "       estimator=Ridge(alpha=1.0, copy_X=True, fit_intercept=True, max_iter=None,\n",
       "   normalize=False, random_state=None, solver='auto', tol=0.001),\n",
       "       fit_params={}, iid=True, n_jobs=1,\n",
       "       param_grid={'solver': ['auto', 'svd', 'cholesky', 'lsqr', 'sparse_cg', 'sag'], 'max_iter': [1000, 10000]},\n",
       "       pre_dispatch='2*n_jobs', refit=True, scoring=None, verbose=10)"
      ]
     },
     "execution_count": 33,
     "metadata": {},
     "output_type": "execute_result"
    }
   ],
   "source": [
    "gs = GridSearchCV(rig, params, cv=5, verbose=10)\n",
    "gs.fit(X_train, y_train)"
   ]
  },
  {
   "cell_type": "code",
   "execution_count": 34,
   "metadata": {
    "collapsed": false
   },
   "outputs": [
    {
     "name": "stdout",
     "output_type": "stream",
     "text": [
      "{'solver': 'auto', 'max_iter': 1000}\n"
     ]
    }
   ],
   "source": [
    "print(gs.best_params_)"
   ]
  },
  {
   "cell_type": "code",
   "execution_count": 35,
   "metadata": {
    "collapsed": true
   },
   "outputs": [],
   "source": [
    "improved_rig = Ridge(solver='auto', max_iter=1000, alpha=1.0)"
   ]
  },
  {
   "cell_type": "code",
   "execution_count": 36,
   "metadata": {
    "collapsed": false
   },
   "outputs": [
    {
     "data": {
      "text/plain": [
       "Ridge(alpha=1.0, copy_X=True, fit_intercept=True, max_iter=1000,\n",
       "   normalize=False, random_state=None, solver='auto', tol=0.001)"
      ]
     },
     "execution_count": 36,
     "metadata": {},
     "output_type": "execute_result"
    }
   ],
   "source": [
    "improved_rig.fit(X_train, y_train)"
   ]
  },
  {
   "cell_type": "code",
   "execution_count": 37,
   "metadata": {
    "collapsed": false
   },
   "outputs": [
    {
     "name": "stdout",
     "output_type": "stream",
     "text": [
      "R^2 on the Ridge regressor, tuned:  0.925002520196\n"
     ]
    }
   ],
   "source": [
    "print(\"R^2 on the Ridge regressor, tuned: \", improved_rig.score(X_test, y_test))"
   ]
  },
  {
   "cell_type": "markdown",
   "metadata": {},
   "source": [
    "### Tree Regression"
   ]
  },
  {
   "cell_type": "code",
   "execution_count": 38,
   "metadata": {
    "collapsed": true
   },
   "outputs": [],
   "source": [
    "from sklearn.tree import DecisionTreeRegressor"
   ]
  },
  {
   "cell_type": "code",
   "execution_count": 61,
   "metadata": {
    "collapsed": true
   },
   "outputs": [],
   "source": [
    "dtr = DecisionTreeRegressor(max_depth=100)"
   ]
  },
  {
   "cell_type": "code",
   "execution_count": 62,
   "metadata": {
    "collapsed": false
   },
   "outputs": [
    {
     "data": {
      "text/plain": [
       "DecisionTreeRegressor(criterion='mse', max_depth=100, max_features=None,\n",
       "           max_leaf_nodes=None, min_samples_leaf=1, min_samples_split=2,\n",
       "           min_weight_fraction_leaf=0.0, presort=False, random_state=None,\n",
       "           splitter='best')"
      ]
     },
     "execution_count": 62,
     "metadata": {},
     "output_type": "execute_result"
    }
   ],
   "source": [
    "dtr.fit(X_train, y_train)"
   ]
  },
  {
   "cell_type": "code",
   "execution_count": 78,
   "metadata": {
    "collapsed": false
   },
   "outputs": [
    {
     "data": {
      "image/png": "[encoded data removed]",
      "text/plain": [
       "<matplotlib.figure.Figure at 0x1abf2d79c50>"
      ]
     },
     "metadata": {},
     "output_type": "display_data"
    }
   ],
   "source": [
    "plt.scatter(X_train, y_train, c='b')\n",
    "plt.scatter(X_test, y_test, c='g')\n",
    "plt.plot(X_test, dtr.predict(X_test), c='r')\n",
    "plt.title(\"Tree regression\")\n",
    "plt.xlabel(\"years of experience\")\n",
    "plt.ylabel(\"Salary in $\")\n",
    "plt.show()"
   ]
  },
  {
   "cell_type": "code",
   "execution_count": 64,
   "metadata": {
    "collapsed": false
   },
   "outputs": [
    {
     "data": {
      "text/plain": [
       "array([ 116969.,   56957.,  113812.,   43525.,   67938.,   67938.])"
      ]
     },
     "execution_count": 64,
     "metadata": {},
     "output_type": "execute_result"
    }
   ],
   "source": [
    "dtr.predict(X_test)"
   ]
  },
  {
   "cell_type": "code",
   "execution_count": 71,
   "metadata": {
    "collapsed": false
   },
   "outputs": [
    {
     "name": "stdout",
     "output_type": "stream",
     "text": [
      "R^2 score for Tree:  0.897047881196\n"
     ]
    }
   ],
   "source": [
    "print(\"R^2 score for Tree: \", dtr.score(X_test, y_test))"
   ]
  },
  {
   "cell_type": "markdown",
   "metadata": {},
   "source": [
    "### Improve Tree with AdaBoost"
   ]
  },
  {
   "cell_type": "code",
   "execution_count": 65,
   "metadata": {
    "collapsed": true
   },
   "outputs": [],
   "source": [
    "from sklearn.ensemble import AdaBoostRegressor"
   ]
  },
  {
   "cell_type": "code",
   "execution_count": 67,
   "metadata": {
    "collapsed": false
   },
   "outputs": [
    {
     "data": {
      "text/plain": [
       "AdaBoostRegressor(base_estimator=DecisionTreeRegressor(criterion='mse', max_depth=100, max_features=None,\n",
       "           max_leaf_nodes=None, min_samples_leaf=1, min_samples_split=2,\n",
       "           min_weight_fraction_leaf=0.0, presort=False, random_state=None,\n",
       "           splitter='best'),\n",
       "         learning_rate=1.0, loss='linear', n_estimators=300,\n",
       "         random_state=None)"
      ]
     },
     "execution_count": 67,
     "metadata": {},
     "output_type": "execute_result"
    }
   ],
   "source": [
    "ada_reg = AdaBoostRegressor(DecisionTreeRegressor(max_depth=100), n_estimators=300)\n",
    "ada_reg.fit(X_train, y_train)"
   ]
  },
  {
   "cell_type": "code",
   "execution_count": 68,
   "metadata": {
    "collapsed": false
   },
   "outputs": [
    {
     "data": {
      "text/plain": [
       "array([ 113812.,   58820.,  113812.,   43525.,   67938.,   67938.])"
      ]
     },
     "execution_count": 68,
     "metadata": {},
     "output_type": "execute_result"
    }
   ],
   "source": [
    "ada_reg.predict(X_test)"
   ]
  },
  {
   "cell_type": "code",
   "execution_count": 77,
   "metadata": {
    "collapsed": false
   },
   "outputs": [
    {
     "data": {
      "image/png": "[encoded data removed]",
      "text/plain": [
       "<matplotlib.figure.Figure at 0x1abf2ad3588>"
      ]
     },
     "metadata": {},
     "output_type": "display_data"
    }
   ],
   "source": [
    "plt.scatter(X_train, y_train, c='b')\n",
    "plt.scatter(X_test, y_test, c='g')\n",
    "plt.plot(X_test, ada_reg.predict(X_test), c='r')\n",
    "plt.title(\"Boosed Tree Regressor\")\n",
    "plt.xlabel(\"years of experience\")\n",
    "plt.ylabel(\"Salary in $\")\n",
    "plt.show()"
   ]
  },
  {
   "cell_type": "code",
   "execution_count": 70,
   "metadata": {
    "collapsed": false
   },
   "outputs": [
    {
     "name": "stdout",
     "output_type": "stream",
     "text": [
      "R^2 score for Tree boosted witha Ada:  0.911099102673\n"
     ]
    }
   ],
   "source": [
    "print(\"R^2 score for Tree boosted witha Ada: \", ada_reg.score(X_test, y_test))"
   ]
  },
  {
   "cell_type": "markdown",
   "metadata": {},
   "source": [
    "By boosting Tree we achieved improvement of 2%."
   ]
  },
  {
   "cell_type": "markdown",
   "metadata": {},
   "source": [
    "### (Optional) Testing Liner Regression from scratch"
   ]
  },
  {
   "cell_type": "code",
   "execution_count": 72,
   "metadata": {
    "collapsed": true
   },
   "outputs": [],
   "source": [
    "from linear_regression_numpy import *"
   ]
  },
  {
   "cell_type": "code",
   "execution_count": 73,
   "metadata": {
    "collapsed": true
   },
   "outputs": [],
   "source": [
    "lr_numpy = LinearRegressioN()"
   ]
  },
  {
   "cell_type": "code",
   "execution_count": 74,
   "metadata": {
    "collapsed": false
   },
   "outputs": [
    {
     "data": {
      "text/plain": [
       "(array([ 26747.18889182]), array([ 9407.5255039]))"
      ]
     },
     "execution_count": 74,
     "metadata": {},
     "output_type": "execute_result"
    }
   ],
   "source": [
    "lr_numpy.train(X_train, y_train)"
   ]
  },
  {
   "cell_type": "code",
   "execution_count": 75,
   "metadata": {
    "collapsed": true
   },
   "outputs": [],
   "source": [
    "pred_numpy_lr = lr_numpy.predict(X_test)"
   ]
  },
  {
   "cell_type": "code",
   "execution_count": 76,
   "metadata": {
    "collapsed": false
   },
   "outputs": [
    {
     "data": {
      "image/png": "[encoded data removed]",
      "text/plain": [
       "<matplotlib.figure.Figure at 0x1abf2f574e0>"
      ]
     },
     "metadata": {},
     "output_type": "display_data"
    }
   ],
   "source": [
    "plt.scatter(X_train, y_train, c='b')\n",
    "plt.scatter(X_test, y_test, c='g')\n",
    "plt.plot(X_test, pred_numpy_lr, c='r')\n",
    "plt.title(\"Linear Regression - from Scratch\")\n",
    "plt.xlabel(\"years of experience\")\n",
    "plt.ylabel(\"Salary in $\")\n",
    "plt.show()"
   ]
  }
 ],
 "metadata": {
  "kernelspec": {
   "display_name": "Python 3",
   "language": "python",
   "name": "python3"
  },
  "language_info": {
   "codemirror_mode": {
    "name": "ipython",
    "version": 3
   },
   "file_extension": ".py",
   "mimetype": "text/x-python",
   "name": "python",
   "nbconvert_exporter": "python",
   "pygments_lexer": "ipython3",
   "version": "3.5.3"
  }
 },
 "nbformat": 4,
 "nbformat_minor": 0
}
