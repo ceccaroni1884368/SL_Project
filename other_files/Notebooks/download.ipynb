{
 "cells": [
  {
   "cell_type": "markdown",
   "metadata": {},
   "source": [
    "# Library"
   ]
  },
  {
   "cell_type": "code",
   "execution_count": null,
   "metadata": {},
   "outputs": [],
   "source": [
    "import requests\n",
    "import pandas as pd\n",
    "import numpy as np\n",
    "import datetime\n",
    "import threading\n",
    "import time\n",
    "import json\n",
    "import datetime\n",
    "import os\n",
    "import progressbar"
   ]
  },
  {
   "cell_type": "markdown",
   "metadata": {},
   "source": [
    "# Settings"
   ]
  },
  {
   "cell_type": "code",
   "execution_count": null,
   "metadata": {},
   "outputs": [],
   "source": [
    "base_url = \"https://api.waqi.info\"\n",
    "token = open('waqitoken.txt').read()  # https://aqicn.org/api/\n",
    "try:\n",
    "    os.makedirs('data')\n",
    "except FileExistsError:\n",
    "    pass\n",
    "with open('cities.txt', 'r') as f:\n",
    "    cities = f.readlines()\n",
    "cities_list = [line.rstrip('\\n') for line in cities]"
   ]
  },
  {
   "cell_type": "code",
   "execution_count": null,
   "metadata": {},
   "outputs": [],
   "source": []
  },
  {
   "cell_type": "markdown",
   "metadata": {},
   "source": [
    "# City request "
   ]
  },
  {
   "cell_type": "code",
   "execution_count": null,
   "metadata": {},
   "outputs": [],
   "source": [
    "def city_request(city):\n",
    "    r = requests.get(base_url + f\"/feed/{city}/?token={token}\")\n",
    "    return r"
   ]
  },
  {
   "cell_type": "code",
   "execution_count": null,
   "metadata": {},
   "outputs": [],
   "source": []
  },
  {
   "cell_type": "markdown",
   "metadata": {},
   "source": [
    "# Make record"
   ]
  },
  {
   "cell_type": "code",
   "execution_count": null,
   "metadata": {},
   "outputs": [],
   "source": [
    "def make_record(r):\n",
    "    \"\"\"Extracts data from request r and returns a DataFrame.\"\"\"\n",
    "    item = r.json()\n",
    "    rows = []\n",
    "    \n",
    "    if item['status'] == 'ok':\n",
    "        # Date\n",
    "        try:\n",
    "            rows.append(datetime.datetime.strptime(item['data']['time']['s'], '%Y-%m-%d %H:%M:%S').date())\n",
    "        except: \n",
    "            rows.append(np.nan)\n",
    "        # Hour\n",
    "        try:\n",
    "            rows.append(datetime.datetime.strptime(item['data']['time']['s'], '%Y-%m-%d %H:%M:%S').time())\n",
    "        except: \n",
    "            rows.append(np.nan)\n",
    "        # City Name\n",
    "        try:\n",
    "            rows.append(item['data']['city']['name'])\n",
    "        except: \n",
    "            rows.append(np.nan)  \n",
    "        # Latitude\n",
    "        try:\n",
    "            rows.append(item['data']['city']['geo'][0])\n",
    "        except: \n",
    "            rows.append(np.nan)\n",
    "        # Longitude\n",
    "        try:\n",
    "            rows.append(item['data']['city']['geo'][1])\n",
    "        except: \n",
    "            rows.append(np.nan)\n",
    "        # AQI\n",
    "        try:\n",
    "            rows.append(item['data']['aqi'])\n",
    "        except: \n",
    "            rows.append(np.nan)\n",
    "        # Create record\n",
    "        record = pd.Series(rows, index=['local date','local time', 'city', 'lat', 'lon', 'aqi'])\n",
    "        # I AQI\n",
    "        try:\n",
    "            record = record.append(pd.DataFrame(item['data']['iaqi']).iloc[0])\n",
    "        except:\n",
    "            pass\n",
    "        \n",
    "        return record\n",
    "    else:\n",
    "        return np.nan"
   ]
  },
  {
   "cell_type": "markdown",
   "metadata": {},
   "source": [
    "# Save Dataframe"
   ]
  },
  {
   "cell_type": "code",
   "execution_count": null,
   "metadata": {},
   "outputs": [],
   "source": [
    "def save(df):\n",
    "    name = datetime.datetime.now().strftime(\"%Y%m%d-%H%M%S\")\n",
    "    df.to_pickle('data/' + name + '.pkl')\n",
    "    print('Saved file: data/' + name + '.pkl')"
   ]
  },
  {
   "cell_type": "markdown",
   "metadata": {},
   "source": [
    "# Make DataFrame"
   ]
  },
  {
   "cell_type": "code",
   "execution_count": null,
   "metadata": {},
   "outputs": [],
   "source": [
    "def make_dataframe(record):\n",
    "    global df\n",
    "    if type(record) != float:\n",
    "        df = pd.concat([pd.DataFrame(record).transpose(),df],axis=0, sort=False, ignore_index=True)"
   ]
  },
  {
   "cell_type": "markdown",
   "metadata": {},
   "source": [
    "# Application"
   ]
  },
  {
   "cell_type": "code",
   "execution_count": null,
   "metadata": {},
   "outputs": [],
   "source": [
    "def main():\n",
    "    global df, cities_list\n",
    "    df = pd.DataFrame()\n",
    "    bar = progressbar.ProgressBar()\n",
    "    for i in bar(range(len(cities_list))):\n",
    "        make_dataframe(make_record(city_request(cities_list[i])))\n",
    " \n",
    "    save(df)\n",
    "\n",
    "\n",
    "if __name__ == '__main__':\n",
    "    main()"
   ]
  },
  {
   "cell_type": "code",
   "execution_count": null,
   "metadata": {},
   "outputs": [],
   "source": []
  },
  {
   "cell_type": "code",
   "execution_count": null,
   "metadata": {},
   "outputs": [],
   "source": []
  },
  {
   "cell_type": "code",
   "execution_count": null,
   "metadata": {},
   "outputs": [],
   "source": []
  },
  {
   "cell_type": "code",
   "execution_count": null,
   "metadata": {},
   "outputs": [],
   "source": []
  },
  {
   "cell_type": "code",
   "execution_count": null,
   "metadata": {},
   "outputs": [],
   "source": []
  },
  {
   "cell_type": "code",
   "execution_count": null,
   "metadata": {},
   "outputs": [],
   "source": []
  }
 ],
 "metadata": {
  "kernelspec": {
   "display_name": "Python 3",
   "language": "python",
   "name": "python3"
  },
  "language_info": {
   "codemirror_mode": {
    "name": "ipython",
    "version": 3
   },
   "file_extension": ".py",
   "mimetype": "text/x-python",
   "name": "python",
   "nbconvert_exporter": "python",
   "pygments_lexer": "ipython3",
   "version": "3.7.6"
  }
 },
 "nbformat": 4,
 "nbformat_minor": 4
}
