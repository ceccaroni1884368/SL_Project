{
 "cells": [
  {
   "cell_type": "code",
   "execution_count": 9,
   "metadata": {},
   "outputs": [],
   "source": [
    "import Tools\n",
    "import datetime\n",
    "import os\n",
    "\n",
    "clear = lambda : os.system('cls')\n"
   ]
  },
  {
   "cell_type": "code",
   "execution_count": 11,
   "metadata": {},
   "outputs": [
    {
     "name": "stdout",
     "output_type": "stream",
     "text": [
      "SL_PROJECT DATAFRAME MANAGER\n",
      "\n",
      "Current datetime: 2020-03-21 07:33:54.111391\n",
      "\n",
      "\n"
     ]
    },
    {
     "name": "stdin",
     "output_type": "stream",
     "text": [
      "########## MENU ##########\n",
      "1) Download dati giornalieri\n",
      "2) Merge dataframe files\n",
      "OTHER) Exit\n",
      "Inserisci: 2\n"
     ]
    },
    {
     "name": "stdout",
     "output_type": "stream",
     "text": [
      "Creato: ./data/dataframe.csv\n",
      "SL_PROJECT DATAFRAME MANAGER\n",
      "\n",
      "Current datetime: 2020-03-21 07:34:00.354567\n",
      "\n",
      "\n"
     ]
    },
    {
     "name": "stdin",
     "output_type": "stream",
     "text": [
      "########## MENU ##########\n",
      "1) Download dati giornalieri\n",
      "2) Merge dataframe files\n",
      "OTHER) Exit\n",
      "Inserisci: r\n"
     ]
    }
   ],
   "source": [
    "while True:\n",
    "    clear()\n",
    "    print('SL_PROJECT DATAFRAME MANAGER\\n')\n",
    "    currentDT = datetime.datetime.now()\n",
    "    print('Current datetime: ' + str(currentDT)+'\\n\\n')\n",
    "    \n",
    "    n = input('########## MENU ##########\\n'+\n",
    "               '1) Download dati giornalieri\\n'+\n",
    "               '2) Merge dataframe files\\n'+\n",
    "               'OTHER) Exit\\nInserisci:')\n",
    "    if n == '1':\n",
    "        Tools.download()\n",
    "    elif n == '2':\n",
    "        Tools.merge()\n",
    "    else:\n",
    "        break"
   ]
  },
  {
   "cell_type": "code",
   "execution_count": null,
   "metadata": {},
   "outputs": [],
   "source": []
  }
 ],
 "metadata": {
  "kernelspec": {
   "display_name": "Python 3",
   "language": "python",
   "name": "python3"
  },
  "language_info": {
   "codemirror_mode": {
    "name": "ipython",
    "version": 3
   },
   "file_extension": ".py",
   "mimetype": "text/x-python",
   "name": "python",
   "nbconvert_exporter": "python",
   "pygments_lexer": "ipython3",
   "version": "3.7.6"
  }
 },
 "nbformat": 4,
 "nbformat_minor": 4
}
